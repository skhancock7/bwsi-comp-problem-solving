{
 "cells": [
  {
   "cell_type": "markdown",
   "id": "3eb64805",
   "metadata": {},
   "source": [
    "# Math Modeling: Intro to Data Analysis\n",
    "\n",
    "Welcome to your **Intro to Data Analysis** activity! 🧩\n",
    "\n",
    "In this exercise, you’ll explore how to work with data in Python, follow the *five-step analysis method*, and reflect on how math modeling helps interpret real-world problems.\n"
   ]
  },
  {
   "cell_type": "markdown",
   "id": "806fe69c",
   "metadata": {},
   "source": [
    "## 🐼 Review of Pandas\n",
    "\n",
    "Pandas is a Python library that helps organize and analyze data efficiently.  \n",
    "You can use it to:\n",
    "- Load, filter, and clean datasets  \n",
    "- Calculate statistics quickly  \n",
    "- Create visualizations to summarize trends  \n",
    "\n",
    "Run the code below to import your libraries.\n"
   ]
  },
  {
   "cell_type": "code",
   "execution_count": null,
   "id": "2e7199e3",
   "metadata": {},
   "outputs": [],
   "source": [
    "import pandas as pd\n",
    "import matplotlib.pyplot as plt\n",
    "\n",
    "# Set up display options for readability\n",
    "pd.set_option(\"display.max_columns\", None)\n",
    "pd.set_option(\"display.precision\", 2)"
   ]
  },
  {
   "cell_type": "markdown",
   "id": "d0a68496",
   "metadata": {},
   "source": [
    "🧠 **Try this:**  \n",
    "Use one of these Pandas functions to explore what it does:  \n",
    "`pd.query`, `pd.nlargest`, or `pd.describe`.\n"
   ]
  },
  {
   "cell_type": "code",
   "execution_count": null,
   "id": "1bc8f4b2",
   "metadata": {},
   "outputs": [],
   "source": [
    "# Try one function here:\n",
    "# Example:\n",
    "# data = pd.read_csv(\"your_dataset.csv\")\n",
    "# data.nlargest(5, \"column_name\")"
   ]
  },
  {
   "cell_type": "markdown",
   "id": "84456e4c",
   "metadata": {},
   "source": [
    "### Q: What do each of these functions do and why might they be useful?"
   ]
  },
  {
   "cell_type": "markdown",
   "id": "3553b59f",
   "metadata": {},
   "source": [
    "### A: \n",
    "YOUR ANSWER HERE"
   ]
  },
  {
   "cell_type": "markdown",
   "id": "6a2bba47",
   "metadata": {},
   "source": [
    "## 📊 What is Data Analysis?\n",
    "\n",
    "Data analysis helps you **make sense of raw information** to answer questions or make predictions.\n",
    "\n",
    "**Pros:**\n",
    "- Helps identify patterns  \n",
    "- Supports evidence-based decisions  \n",
    "\n",
    "**Cons:**\n",
    "- Can be misleading if data is incomplete or inconsistent  \n",
    "- Requires clean and reliable input  "
   ]
  },
  {
   "cell_type": "markdown",
   "id": "b12b380a",
   "metadata": {},
   "source": [
    "### Q: Explain why *clean data* is essential before analysis."
   ]
  },
  {
   "cell_type": "markdown",
   "id": "d283c514",
   "metadata": {},
   "source": [
    "### A: \n",
    "YOUR ANSWER HERE"
   ]
  },
  {
   "cell_type": "markdown",
   "id": "960574dd",
   "metadata": {},
   "source": [
    "## 🧭 Basic Method\n",
    "\n",
    "Data analysis often follows this general method:\n",
    "\n",
    "1. **Data collection**  \n",
    "2. **Data cleaning**  \n",
    "3. **Exploration**  \n",
    "4. **Model building** (check that your inferences are correct)  \n",
    "5. **Communicate findings**\n",
    "\n",
    "You’ll practice each step below using a small dataset.\n"
   ]
  },
  {
   "cell_type": "markdown",
   "id": "64cc77f2",
   "metadata": {},
   "source": [
    "### 🪣 Step 1: Data Collection"
   ]
  },
  {
   "cell_type": "code",
   "execution_count": null,
   "id": "c7368447",
   "metadata": {},
   "outputs": [],
   "source": [
    "# Step 1: Load data\n",
    "data = pd.read_csv(\"https://raw.githubusercontent.com/mwaskom/seaborn-data/master/iris.csv\")\n",
    "data.head()"
   ]
  },
  {
   "cell_type": "markdown",
   "id": "11a1a854",
   "metadata": {},
   "source": [
    "### Q: How many rows and columns are in this dataset?  "
   ]
  },
  {
   "cell_type": "markdown",
   "id": "1ea8d03e",
   "metadata": {},
   "source": [
    "### A:\n",
    "YOUR ANSWER HERE"
   ]
  },
  {
   "cell_type": "markdown",
   "id": "209545ab",
   "metadata": {},
   "source": [
    "### Q: What does each column represent?"
   ]
  },
  {
   "cell_type": "markdown",
   "id": "eafa81a8",
   "metadata": {},
   "source": [
    "### A:\n",
    "YOUR ANSWER HERE"
   ]
  },
  {
   "cell_type": "markdown",
   "id": "0ca33d64",
   "metadata": {},
   "source": [
    "### 🧼 Step 2: Data Cleaning"
   ]
  },
  {
   "cell_type": "code",
   "execution_count": null,
   "id": "9ca50620",
   "metadata": {},
   "outputs": [],
   "source": [
    "# Step 2: Clean data\n",
    "data.info()        # Check for missing values\n",
    "data.isna().sum()  # Count missing entries"
   ]
  },
  {
   "cell_type": "markdown",
   "id": "b9f88166",
   "metadata": {},
   "source": [
    "🧠 **Task:**  \n",
    "If you find any missing values, decide how to handle them (fill in or drop).\n"
   ]
  },
  {
   "cell_type": "code",
   "execution_count": null,
   "id": "fe069c11",
   "metadata": {},
   "outputs": [],
   "source": [
    "# Example:\n",
    "# data = data.dropna()"
   ]
  },
  {
   "cell_type": "markdown",
   "id": "b108921d",
   "metadata": {},
   "source": [
    "### 🔍 Step 3: Exploration"
   ]
  },
  {
   "cell_type": "code",
   "execution_count": null,
   "id": "85717b4a",
   "metadata": {},
   "outputs": [],
   "source": [
    "# Step 3: Explore\n",
    "print(data.describe())\n",
    "\n",
    "plt.hist(data[\"petal_length\"], bins=10)\n",
    "plt.title(\"Distribution of Petal Lengths\")\n",
    "plt.xlabel(\"Petal Length (cm)\")\n",
    "plt.ylabel(\"Frequency\")\n",
    "plt.show()"
   ]
  },
  {
   "cell_type": "markdown",
   "id": "834465da",
   "metadata": {},
   "source": [
    "### Q: What does the histogram tell you about petal lengths?  "
   ]
  },
  {
   "cell_type": "markdown",
   "id": "c8c63c7c",
   "metadata": {},
   "source": [
    "### A:\n",
    "YOUR ANSWER HERE"
   ]
  },
  {
   "cell_type": "markdown",
   "id": "6774969c",
   "metadata": {},
   "source": [
    "### Q: Are there any visible patterns or clusters?"
   ]
  },
  {
   "cell_type": "markdown",
   "id": "2e2e598a",
   "metadata": {},
   "source": [
    "### A:\n",
    "YOUR ANSWER HERE"
   ]
  },
  {
   "cell_type": "markdown",
   "id": "1e3162c5",
   "metadata": {},
   "source": [
    "### 🧮 Step 4: Model Building"
   ]
  },
  {
   "cell_type": "code",
   "execution_count": null,
   "id": "79a9d886",
   "metadata": {},
   "outputs": [],
   "source": [
    "# Step 4: Build a simple model (group and compare)\n",
    "avg_lengths = data.groupby(\"species\")[\"petal_length\"].mean()\n",
    "avg_lengths"
   ]
  },
  {
   "cell_type": "markdown",
   "id": "936fbf44",
   "metadata": {},
   "source": [
    "🧠 **Interpretation:**  \n",
    "Which species has the longest petals on average?  \n",
    "What conclusion might you draw from this?\n"
   ]
  },
  {
   "cell_type": "markdown",
   "id": "6a415d9f",
   "metadata": {},
   "source": [
    "### 💬 Step 5: Communicate Findings\n",
    "\n",
    "**Write a short summary of what you discovered.**\n",
    "\n",
    "Your summary should:\n",
    "- Include 1–2 sentences describing your data  \n",
    "- Mention one interesting pattern or comparison  \n",
    "- Suggest what further data might help improve the analysis  \n"
   ]
  },
  {
   "cell_type": "markdown",
   "id": "c8248daf",
   "metadata": {},
   "source": [
    "### 📝 Your summary:"
   ]
  },
  {
   "cell_type": "markdown",
   "id": "63774dab",
   "metadata": {},
   "source": [
    "YOUR ANSWER HERE"
   ]
  },
  {
   "cell_type": "markdown",
   "id": "a8ec9449",
   "metadata": {},
   "source": [
    "## ⚙️ Important Notes\n",
    "\n",
    "- Use **statistics**, **plots**, and **grouping** to explore your data and test your ideas.  \n",
    "- Always question your conclusions — could something else explain the trend?  \n",
    "- **Data analysis is iterative:** hypothesis → test → conclusion → new hypothesis → …  \n",
    "\n",
    "### 🧠 Understanding Significance Levels  \n",
    "When you analyze data, sometimes you want to know whether your results are **real** or just due to random chance.  \n",
    "This is where the **significance level** (often written as **α**, alpha) comes in.  \n",
    "\n",
    "- Common values are **0.05** (5%) or **0.01** (1%).  \n",
    "- If the probability (called the **p-value**) is *less than α*, your result is considered **statistically significant** — meaning it’s unlikely to have happened by chance.\n"
   ]
  },
  {
   "cell_type": "code",
   "execution_count": null,
   "id": "2c1e18df",
   "metadata": {},
   "outputs": [],
   "source": [
    "from scipy import stats\n",
    "\n",
    "# Example: compare petal lengths between two species\n",
    "setosa = data[data[\"species\"] == \"setosa\"][\"petal_length\"]\n",
    "versicolor = data[data[\"species\"] == \"versicolor\"][\"petal_length\"]\n",
    "\n",
    "t_stat, p_value = stats.ttest_ind(setosa, versicolor)\n",
    "print(\"p-value:\", p_value)\n",
    "\n",
    "if p_value < 0.05:\n",
    "    print(\"✅ Significant difference between species!\")\n",
    "else:\n",
    "    print(\"❌ No significant difference found.\")"
   ]
  },
  {
   "cell_type": "markdown",
   "id": "016789f1",
   "metadata": {},
   "source": [
    "📝 **Interpretation Questions:**\n",
    "1. What does the p-value tell you about the two groups?  \n",
    "2. How would increasing or decreasing α (the significance level) change your confidence in the result?\n"
   ]
  },
  {
   "cell_type": "markdown",
   "id": "54ede3fa",
   "metadata": {},
   "source": [
    "## 💡 Example (Optional Extension)\n",
    "\n",
    "Try downloading a free dataset from [Kaggle](https://www.kaggle.com/datasets) or another source, and repeat the **five-step method** on your own.  \n",
    "You can use techniques like:\n",
    "- `groupby()`\n",
    "- `.corr()`\n",
    "- scatter plots or bar charts  \n",
    "\n",
    "Include **1–2 plots** that support your conclusion.\n"
   ]
  },
  {
   "cell_type": "markdown",
   "id": "ec4b724b",
   "metadata": {},
   "source": [
    "## 🧾 Conclusions\n",
    "\n",
    "- “Black box” analysis is not useful — you must be able to explain your reasoning.  \n",
    "- Only use techniques you understand.  \n",
    "- Be cautious: **past data doesn’t always predict the future.**  \n",
    "- This sets the stage for **machine learning** and predictive modeling!\n"
   ]
  }
 ],
 "metadata": {
  "kernelspec": {
   "display_name": "base",
   "language": "python",
   "name": "python3"
  },
  "language_info": {
   "codemirror_mode": {
    "name": "ipython",
    "version": 3
   },
   "file_extension": ".py",
   "mimetype": "text/x-python",
   "name": "python",
   "nbconvert_exporter": "python",
   "pygments_lexer": "ipython3",
   "version": "3.12.8"
  }
 },
 "nbformat": 4,
 "nbformat_minor": 5
}
