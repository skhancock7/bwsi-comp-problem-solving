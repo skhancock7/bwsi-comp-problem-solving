{
 "cells": [
  {
   "cell_type": "markdown",
   "metadata": {},
   "source": [
    "# Algorithm Puzzles\n",
    "Below are some programming puzzles. Some of these are classic introductions to algorithmic thinking. All of them can be done in one to two dozen lines of code with python built-ins and loops. If you'd like to give yourself an additional challenge, try to account for kinds of inputs that aren't set out in the examples. "
   ]
  },
  {
   "cell_type": "markdown",
   "metadata": {},
   "source": [
    "## Longest Palidrome Substring"
   ]
  },
  {
   "cell_type": "markdown",
   "metadata": {},
   "source": [
    "### Q1. Write a function that returns the longest palindrome substring from the input string.\n",
    "A palindrome is a string of characters that are the same backwards as they are forwards. For example, the word 'level' is a palindrome, and so is the number 131. The task below is not just to detect if a word is a palindrome, but to find the part of a word that has a palindrome. See examples below for clarification:\n",
    "```python\n",
    "# Example\n",
    "longest_palindrome('apple') # returns 'pp'\n",
    "longest_palindrome('epiphany') # returns 'pip'\n",
    "longest_palindrome('12345556778') #returns '555'\n",
    "```"
   ]
  },
  {
   "cell_type": "code",
   "execution_count": null,
   "metadata": {},
   "outputs": [
    {
     "name": "stdout",
     "output_type": "stream",
     "text": [
      "Longest palindrome: 55555\n"
     ]
    }
   ],
   "source": [
    "# work through string and check for a palindrome at each position i in the string\n",
    "def longest_palindrome(string):\n",
    "    longest = \"\"\n",
    "    for i in range(len(string)):\n",
    "        left = i\n",
    "        right = i+1\n",
    "\n",
    "        while left >= 0 and right < len(string) and string[left] == string[right]:\n",
    "            left = left-1\n",
    "            right = right+1\n",
    "        current_palindrome = string[left+1:right]\n",
    "        if len(current_palindrome) > len(longest):\n",
    "            longest = current_palindrome\n",
    "        left = i-1\n",
    "        right = i+1\n",
    "        while left >= 0 and right < len(string) and string[left] == string[right]:\n",
    "            left = left-1\n",
    "            right = right+1\n",
    "        current_palindrome = string[left+1:right]\n",
    "        if len(current_palindrome) > len(longest):\n",
    "            longest = current_palindrome\n",
    "    return longest\n",
    "\n",
    "user_input = input(\"Enter a string: \")\n",
    "result = longest_palindrome(user_input)\n",
    "print(f\"Longest palindrome: {result}\")"
   ]
  },
  {
   "cell_type": "markdown",
   "metadata": {},
   "source": [
    "## Roman Numeral to Integer"
   ]
  },
  {
   "cell_type": "markdown",
   "metadata": {},
   "source": [
    "### Q2. Write a function that converts a Roman numeral string into an integer.\n",
    "Roman numerals convert very easily into integers: I is 1, V is 5, and X is 10. String them together like XVI, and the number is 16. However, when the numeral I is *in front* of another numeral, it will subract from the next numeral in the sequence. So IV is 4, while VI is 6. Your task is to write a function to account for this property.\n",
    "```python\n",
    "# Example\n",
    "rom_to_int('IV') #returns 4\n",
    "rom_to_int('VI') #returns 6\n",
    "rom_to_int('XII') #returns 12\n",
    "rom_to_int('XXIX') #returns 29\n",
    "```"
   ]
  },
  {
   "cell_type": "code",
   "execution_count": 14,
   "metadata": {},
   "outputs": [
    {
     "name": "stdout",
     "output_type": "stream",
     "text": [
      "Your roman numeral as an integer is: 29\n"
     ]
    }
   ],
   "source": [
    "# Write your function here!!\n",
    "int_value = {\"I\":1, \"V\": 5, \"X\":10, \"L\": 50, \"C\": 100, \"D\": 500, \"M\": 1000}\n",
    "\n",
    "def rom_to_int(string):\n",
    "    total = 0\n",
    "    \n",
    "    for i in range(len(string)):\n",
    "        if i+1 < len(string) and int_value[string[i]] < int_value[string[i+1]]:\n",
    "           total -= int_value[string[i]]\n",
    "        else:\n",
    "                total += int_value[string[i]]\n",
    "    return total\n",
    "\n",
    "\n",
    "user_input = input(\"Enter a roman numeral: \")\n",
    "result = rom_to_int(user_input)\n",
    "print(f\"Your roman numeral as an integer is: {result}\")\n"
   ]
  },
  {
   "cell_type": "markdown",
   "metadata": {},
   "source": [
    "## Pascal's Triangle"
   ]
  },
  {
   "cell_type": "markdown",
   "metadata": {},
   "source": [
    "### Q.3 Write a function that generates values from Pascal's triangle.\n",
    "Pascal's triangle is an expanding list of numbers.\n",
    "<p>\n",
    "<img src = \"https://upload.wikimedia.org/wikipedia/commons/0/0d/PascalTriangleAnimated2.gif\">\n",
    "</p>\n",
    "Notice that every value is the sum of the numbers above it! \n",
    "\n",
    "Pascal's triangle generates something called *binomial coefficients*, an essential element of probability and combinatorics. "
   ]
  },
  {
   "cell_type": "markdown",
   "metadata": {},
   "source": [
    "Here are some examples for you to test your code!\n",
    "```python\n",
    "# Example\n",
    "pasc_generation(1) #returns [[1],[1,1]]\n",
    "pasc_generation(4) #returns [[1],[1,1],[1,2,1],[1,3,3,1],[1,4,6,4,1]]\n",
    "```"
   ]
  },
  {
   "cell_type": "code",
   "execution_count": 27,
   "metadata": {},
   "outputs": [
    {
     "name": "stdout",
     "output_type": "stream",
     "text": [
      "Pascal's Triangle!! [[1], [1, 1], [1, 2, 1], [1, 3, 3, 1], [1, 4, 6, 4, 1], [1, 5, 10, 10, 5, 1], [1, 6, 15, 20, 15, 6, 1], [1, 7, 21, 35, 35, 21, 7, 1], [1, 8, 28, 56, 70, 56, 28, 8, 1], [1, 9, 36, 84, 126, 126, 84, 36, 9, 1]]\n"
     ]
    }
   ],
   "source": [
    "# Write you function here!\n",
    "\n",
    "\"\"\" Hi! I'm learning Python and there's a lot I don't know that I'd like to learn.\n",
    "I couldn't really figure out how to get the exact same output as you, I was thinking\n",
    "in terms of \"rows.\" I don't really understand why when you input 1, you get 2 rows (in the example)? \"\"\"\n",
    "\n",
    "def pasc_generation(columns):\n",
    "    result = []\n",
    "    for i in range(int(columns)):\n",
    "        if i==0:\n",
    "            row = [1]\n",
    "        else:\n",
    "            middle = [result[i-1][j] +result[i-1][j+1] for j in range(len(result[i-1])-1)]\n",
    "            row = [1] + middle + [1]\n",
    "    \n",
    "        result = result + [row]\n",
    "    return result\n",
    "\n",
    "user_input = input(\"How many rows of pascal's triangle do you want me to generate? \")\n",
    "final = pasc_generation(user_input)\n",
    "print(f\"Pascal's Triangle!! {final}\")\n"
   ]
  },
  {
   "cell_type": "markdown",
   "metadata": {},
   "source": [
    "## "
   ]
  }
 ],
 "metadata": {
  "kernelspec": {
   "display_name": "base",
   "language": "python",
   "name": "python3"
  },
  "language_info": {
   "codemirror_mode": {
    "name": "ipython",
    "version": 3
   },
   "file_extension": ".py",
   "mimetype": "text/x-python",
   "name": "python",
   "nbconvert_exporter": "python",
   "pygments_lexer": "ipython3",
   "version": "3.13.5"
  }
 },
 "nbformat": 4,
 "nbformat_minor": 2
}
